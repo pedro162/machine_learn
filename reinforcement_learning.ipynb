{
  "nbformat": 4,
  "nbformat_minor": 0,
  "metadata": {
    "colab": {
      "provenance": [],
      "gpuType": "T4",
      "authorship_tag": "ABX9TyOKOcItvIgUVkmKkuN5Nbj4",
      "include_colab_link": true
    },
    "kernelspec": {
      "name": "python3",
      "display_name": "Python 3"
    },
    "language_info": {
      "name": "python"
    },
    "accelerator": "GPU"
  },
  "cells": [
    {
      "cell_type": "markdown",
      "metadata": {
        "id": "view-in-github",
        "colab_type": "text"
      },
      "source": [
        "<a href=\"https://colab.research.google.com/github/pedro162/machine_learn/blob/main/reinforcement_learning.ipynb\" target=\"_parent\"><img src=\"https://colab.research.google.com/assets/colab-badge.svg\" alt=\"Open In Colab\"/></a>"
      ]
    },
    {
      "cell_type": "code",
      "execution_count": 29,
      "metadata": {
        "id": "WhX77vcbpFl9"
      },
      "outputs": [],
      "source": [
        "import gym\n",
        "import random"
      ]
    },
    {
      "cell_type": "code",
      "source": [
        "env = gym.make(\"Taxi-v3\").env"
      ],
      "metadata": {
        "id": "BpdfFU7cpckD"
      },
      "execution_count": 30,
      "outputs": []
    },
    {
      "cell_type": "code",
      "source": [
        "env.reset()\n",
        "env.render()"
      ],
      "metadata": {
        "id": "8ojsgItQptYy"
      },
      "execution_count": 31,
      "outputs": []
    },
    {
      "cell_type": "code",
      "source": [
        "#0=south 1=north 2=east 3=west 4=pickup 5=dropoff\n",
        "print(env.action_space)"
      ],
      "metadata": {
        "colab": {
          "base_uri": "https://localhost:8080/"
        },
        "id": "VuaicJATrPDx",
        "outputId": "2b3ed5ab-f3f8-41ee-d9ba-b88c66bd5627"
      },
      "execution_count": 32,
      "outputs": [
        {
          "output_type": "stream",
          "name": "stdout",
          "text": [
            "Discrete(6)\n"
          ]
        }
      ]
    },
    {
      "cell_type": "code",
      "source": [
        "\n",
        "5*5*5*4"
      ],
      "metadata": {
        "colab": {
          "base_uri": "https://localhost:8080/"
        },
        "id": "ybv2B-hYu3f4",
        "outputId": "d98a8b25-5e95-4378-a117-7c916be2dc6f"
      },
      "execution_count": 33,
      "outputs": [
        {
          "output_type": "execute_result",
          "data": {
            "text/plain": [
              "500"
            ]
          },
          "metadata": {},
          "execution_count": 33
        }
      ]
    },
    {
      "cell_type": "code",
      "source": [
        "# Destination\n",
        "print(env.observation_space)"
      ],
      "metadata": {
        "colab": {
          "base_uri": "https://localhost:8080/"
        },
        "id": "rJX1uM_OumtY",
        "outputId": "3bed9523-3dc4-4606-96d1-80be48636631"
      },
      "execution_count": 34,
      "outputs": [
        {
          "output_type": "stream",
          "name": "stdout",
          "text": [
            "Discrete(500)\n"
          ]
        }
      ]
    },
    {
      "cell_type": "code",
      "source": [
        "len(env.P)"
      ],
      "metadata": {
        "colab": {
          "base_uri": "https://localhost:8080/"
        },
        "id": "miD2T5Twu5bR",
        "outputId": "86d73ce3-b4c8-466f-8ce4-e7981f9917b9"
      },
      "execution_count": 35,
      "outputs": [
        {
          "output_type": "execute_result",
          "data": {
            "text/plain": [
              "500"
            ]
          },
          "metadata": {},
          "execution_count": 35
        }
      ]
    },
    {
      "cell_type": "code",
      "source": [
        "env.P[484]"
      ],
      "metadata": {
        "colab": {
          "base_uri": "https://localhost:8080/"
        },
        "id": "ZqhVmN5Tu785",
        "outputId": "c8073c34-a1c1-4016-f850-9940066df736"
      },
      "execution_count": 36,
      "outputs": [
        {
          "output_type": "execute_result",
          "data": {
            "text/plain": [
              "{0: [(1.0, 484, -1, False)],\n",
              " 1: [(1.0, 384, -1, False)],\n",
              " 2: [(1.0, 484, -1, False)],\n",
              " 3: [(1.0, 464, -1, False)],\n",
              " 4: [(1.0, 484, -10, False)],\n",
              " 5: [(1.0, 484, -10, False)]}"
            ]
          },
          "metadata": {},
          "execution_count": 36
        }
      ]
    },
    {
      "cell_type": "markdown",
      "source": [
        "###Training"
      ],
      "metadata": {
        "id": "VeV136Mjw_iS"
      }
    },
    {
      "cell_type": "markdown",
      "source": [
        "Diferença temporal (Q-learning)\n",
        "### **Qt(s,a) = Qt-1(s,a) + @TDt(a,s)**"
      ],
      "metadata": {
        "id": "1WiLVlhKxFFy"
      }
    },
    {
      "cell_type": "code",
      "source": [
        "%%time\n",
        "from IPython.display import clear_output\n",
        "import numpy as np\n",
        "import random\n",
        "import math\n",
        "import time"
      ],
      "metadata": {
        "colab": {
          "base_uri": "https://localhost:8080/"
        },
        "id": "usTTRnAOw8Zv",
        "outputId": "146a2849-af77-4444-ba20-9e7ae1981028"
      },
      "execution_count": 37,
      "outputs": [
        {
          "output_type": "stream",
          "name": "stdout",
          "text": [
            "CPU times: user 18 µs, sys: 1 µs, total: 19 µs\n",
            "Wall time: 22.6 µs\n"
          ]
        }
      ]
    },
    {
      "cell_type": "code",
      "source": [
        "#1-10% 3-90%\n",
        "#Exploration / exploitation"
      ],
      "metadata": {
        "id": "swuYcg7Kx0zU"
      },
      "execution_count": 38,
      "outputs": []
    },
    {
      "cell_type": "code",
      "source": [
        "q_table = np.zeros([env.observation_space.n, env.action_space.n])\n",
        "q_table"
      ],
      "metadata": {
        "colab": {
          "base_uri": "https://localhost:8080/"
        },
        "id": "9j3wKhF4ywE2",
        "outputId": "432bf080-4d2e-47d5-edbb-ceb43b747491"
      },
      "execution_count": 39,
      "outputs": [
        {
          "output_type": "execute_result",
          "data": {
            "text/plain": [
              "array([[0., 0., 0., 0., 0., 0.],\n",
              "       [0., 0., 0., 0., 0., 0.],\n",
              "       [0., 0., 0., 0., 0., 0.],\n",
              "       ...,\n",
              "       [0., 0., 0., 0., 0., 0.],\n",
              "       [0., 0., 0., 0., 0., 0.],\n",
              "       [0., 0., 0., 0., 0., 0.]])"
            ]
          },
          "metadata": {},
          "execution_count": 39
        }
      ]
    },
    {
      "cell_type": "code",
      "source": [
        "q_table[0]"
      ],
      "metadata": {
        "colab": {
          "base_uri": "https://localhost:8080/"
        },
        "id": "wUZp8lOhy92N",
        "outputId": "912cb71d-c0e3-4e7c-eb8f-6d1019f933de"
      },
      "execution_count": 40,
      "outputs": [
        {
          "output_type": "execute_result",
          "data": {
            "text/plain": [
              "array([0., 0., 0., 0., 0., 0.])"
            ]
          },
          "metadata": {},
          "execution_count": 40
        }
      ]
    },
    {
      "cell_type": "code",
      "source": [
        "np.argmax(np.array([3, 5]))"
      ],
      "metadata": {
        "colab": {
          "base_uri": "https://localhost:8080/"
        },
        "id": "0zjwfif8zh_v",
        "outputId": "028d4ece-da96-40d5-83a0-63b1c4ae3c37"
      },
      "execution_count": 41,
      "outputs": [
        {
          "output_type": "execute_result",
          "data": {
            "text/plain": [
              "1"
            ]
          },
          "metadata": {},
          "execution_count": 41
        }
      ]
    },
    {
      "cell_type": "code",
      "source": [
        "alpha=0.1\n",
        "gamma=0.6\n",
        "epsilon=0.1\n",
        "\n",
        "for i in range(1000000):\n",
        "  state = env.reset()\n",
        "  penalties, rewording = 0,0\n",
        "  done = False\n",
        "\n",
        "  while not done:\n",
        "    #Exploration\n",
        "    if random.uniform(0,1) < epsilon:\n",
        "      action = env.action_space.sample()\n",
        "    else:#Exploitation\n",
        "      action = np.argmax(q_table[state])\n",
        "\n",
        "    next_state, reward, done, info = env.step(action)\n",
        "\n",
        "    q_old = q_table[state, action]\n",
        "    next_max = np.max(q_table[next_state])\n",
        "\n",
        "    q_table[state, action] = (1-alpha)*q_old + alpha*(reward + gamma*next_max)\n",
        "\n",
        "    if reward == -10:\n",
        "      penalties += 1\n",
        "\n",
        "    state = next_state\n",
        "\n",
        "  if i % 100 == 0:\n",
        "    clear_output(wait=True)\n",
        "    print(f\"Episode: {i}\")\n",
        "print(\"Training finished\")"
      ],
      "metadata": {
        "colab": {
          "base_uri": "https://localhost:8080/"
        },
        "id": "x0AwQT7vxjEM",
        "outputId": "3555484a-2f8c-4bc6-cf63-86d35456fb54"
      },
      "execution_count": 42,
      "outputs": [
        {
          "output_type": "stream",
          "name": "stdout",
          "text": [
            "Episode: 999900\n",
            "Training finished\n"
          ]
        }
      ]
    },
    {
      "cell_type": "code",
      "source": [
        "q_table[424]"
      ],
      "metadata": {
        "colab": {
          "base_uri": "https://localhost:8080/"
        },
        "id": "QgGto_VR1cs6",
        "outputId": "6ebabd9b-4e34-4b63-a9ec-490007d18e8b"
      },
      "execution_count": 43,
      "outputs": [
        {
          "output_type": "execute_result",
          "data": {
            "text/plain": [
              "array([ -2.49618789,  -2.4936525 ,  -2.4936525 ,  -2.49619027,\n",
              "       -11.49122449, -11.49320373])"
            ]
          },
          "metadata": {},
          "execution_count": 43
        }
      ]
    },
    {
      "cell_type": "code",
      "source": [
        "env.reset()\n",
        "env.render()"
      ],
      "metadata": {
        "colab": {
          "base_uri": "https://localhost:8080/"
        },
        "id": "arr2nFJh1exF",
        "outputId": "4ebb5aa1-1e26-4f28-b00c-354640e9f824"
      },
      "execution_count": 44,
      "outputs": [
        {
          "output_type": "stream",
          "name": "stderr",
          "text": [
            "/usr/local/lib/python3.10/dist-packages/gym/core.py:49: DeprecationWarning: \u001b[33mWARN: You are calling render method, but you didn't specified the argument render_mode at environment initialization. To maintain backward compatibility, the environment will render in human mode.\n",
            "If you want to render in human mode, initialize the environment in this way: gym.make('EnvName', render_mode='human') and don't call the render method.\n",
            "See here for more information: https://www.gymlibrary.ml/content/api/\u001b[0m\n",
            "  deprecation(\n"
          ]
        }
      ]
    },
    {
      "cell_type": "code",
      "source": [
        "env.encode(2,1,0,3)"
      ],
      "metadata": {
        "colab": {
          "base_uri": "https://localhost:8080/"
        },
        "id": "Ep-ita381liA",
        "outputId": "f01f0824-eba9-4b6d-ee05-5223718316eb"
      },
      "execution_count": 45,
      "outputs": [
        {
          "output_type": "execute_result",
          "data": {
            "text/plain": [
              "223"
            ]
          },
          "metadata": {},
          "execution_count": 45
        }
      ]
    },
    {
      "cell_type": "code",
      "source": [
        "env.step(1)\n",
        "env.render()"
      ],
      "metadata": {
        "colab": {
          "base_uri": "https://localhost:8080/"
        },
        "id": "cy5wmvIT3BAH",
        "outputId": "6c57cf7c-f96b-4aff-82e7-deb929726aa1"
      },
      "execution_count": 47,
      "outputs": [
        {
          "output_type": "stream",
          "name": "stderr",
          "text": [
            "/usr/local/lib/python3.10/dist-packages/gym/core.py:49: DeprecationWarning: \u001b[33mWARN: You are calling render method, but you didn't specified the argument render_mode at environment initialization. To maintain backward compatibility, the environment will render in human mode.\n",
            "If you want to render in human mode, initialize the environment in this way: gym.make('EnvName', render_mode='human') and don't call the render method.\n",
            "See here for more information: https://www.gymlibrary.ml/content/api/\u001b[0m\n",
            "  deprecation(\n"
          ]
        }
      ]
    },
    {
      "cell_type": "code",
      "source": [
        "env.step(1)\n",
        "env.render()"
      ],
      "metadata": {
        "id": "7pdZVrFu3TYD"
      },
      "execution_count": 49,
      "outputs": []
    },
    {
      "cell_type": "code",
      "source": [
        "total_penalty = 0\n",
        "episodes = 50\n",
        "frames =  []\n",
        "\n",
        "for _ in range(episodes):\n",
        "  state = env.reset()\n",
        "  penalties, reward = 0,0\n",
        "  done = False\n",
        "\n",
        "  while not done:\n",
        "    action = np.argmax(q_table[state])\n",
        "    state, reward, done, info = env.step(action)\n",
        "\n",
        "    if reward == -10:\n",
        "      penalties += 1\n",
        "\n",
        "    frames.append({\n",
        "        'frame': env.render(mode='ansi'),\n",
        "        'state': state,\n",
        "        'action': action,\n",
        "        'reward': reward\n",
        "    })\n",
        "  total_penalty += penalties\n",
        "\n",
        "print(f\"Episodes: {episodes}\")\n",
        "print(f\"Penalties: {total_penalty}\")"
      ],
      "metadata": {
        "colab": {
          "base_uri": "https://localhost:8080/"
        },
        "id": "oxoDAUv02bf9",
        "outputId": "6641233f-e0f9-4590-a39e-cb859cab4519"
      },
      "execution_count": 50,
      "outputs": [
        {
          "output_type": "stream",
          "name": "stdout",
          "text": [
            "Episodes: 50\n",
            "Penalties: 0\n"
          ]
        }
      ]
    },
    {
      "cell_type": "code",
      "source": [
        "frames[0]"
      ],
      "metadata": {
        "colab": {
          "base_uri": "https://localhost:8080/"
        },
        "id": "WXiXaxa34K04",
        "outputId": "d6b8babf-5e12-4363-f9c0-ce98b334baf0"
      },
      "execution_count": 51,
      "outputs": [
        {
          "output_type": "execute_result",
          "data": {
            "text/plain": [
              "{'frame': '+---------+\\n|\\x1b[34;1mR\\x1b[0m: | : :G|\\n| : | : : |\\n| : : : : |\\n| |\\x1b[43m \\x1b[0m: | : |\\n|\\x1b[35mY\\x1b[0m| : |B: |\\n+---------+\\n  (North)\\n',\n",
              " 'state': 322,\n",
              " 'action': 1,\n",
              " 'reward': -1}"
            ]
          },
          "metadata": {},
          "execution_count": 51
        }
      ]
    },
    {
      "cell_type": "code",
      "source": [
        "for frame in frames:\n",
        "  clear_output(wait=True)\n",
        "  print(frame['frame'])\n",
        "  print(f\"State: {frame['state']}\")\n",
        "  print(f\"Action: {frame['action']}\")\n",
        "  print(f\"Reward: {frame['reward']}\")\n",
        "  time.sleep(.5)"
      ],
      "metadata": {
        "colab": {
          "base_uri": "https://localhost:8080/"
        },
        "id": "tmGu92ri4RRs",
        "outputId": "287ed496-98d4-4302-c6c8-de02821acacc"
      },
      "execution_count": 53,
      "outputs": [
        {
          "output_type": "stream",
          "name": "stdout",
          "text": [
            "+---------+\n",
            "|R: | : :G|\n",
            "| : | : : |\n",
            "| : : : : |\n",
            "| | : | : |\n",
            "|\u001b[35m\u001b[34;1m\u001b[43mY\u001b[0m\u001b[0m\u001b[0m| : |B: |\n",
            "+---------+\n",
            "  (Dropoff)\n",
            "\n",
            "State: 410\n",
            "Action: 5\n",
            "Reward: 20\n"
          ]
        }
      ]
    }
  ]
}